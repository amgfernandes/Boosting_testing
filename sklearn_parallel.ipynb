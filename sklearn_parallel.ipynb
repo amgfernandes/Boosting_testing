{
  "cells": [
    {
      "cell_type": "code",
      "execution_count": null,
      "metadata": {
        "collapsed": false
      },
      "outputs": [],
      "source": [
        "%matplotlib inline"
      ]
    },
    {
      "cell_type": "markdown",
      "metadata": {},
      "source": [
        "\n",
        "# Demo for using xgboost with sklearn\n"
      ]
    },
    {
      "cell_type": "code",
      "execution_count": 1,
      "metadata": {
        "collapsed": false
      },
      "outputs": [
        {
          "name": "stdout",
          "output_type": "stream",
          "text": [
            "Parallel Parameter optimization\n",
            "Fitting 5 folds for each of 9 candidates, totalling 45 fits\n"
          ]
        },
        {
          "name": "stderr",
          "output_type": "stream",
          "text": [
            "/Users/fernandesm/opt/anaconda3/envs/ML/lib/python3.10/site-packages/xgboost/compat.py:36: FutureWarning: pandas.Int64Index is deprecated and will be removed from pandas in a future version. Use pandas.Index with the appropriate dtype instead.\n",
            "  from pandas import MultiIndex, Int64Index\n",
            "/Users/fernandesm/opt/anaconda3/envs/ML/lib/python3.10/site-packages/xgboost/compat.py:36: FutureWarning: pandas.Int64Index is deprecated and will be removed from pandas in a future version. Use pandas.Index with the appropriate dtype instead.\n",
            "  from pandas import MultiIndex, Int64Index\n",
            "/Users/fernandesm/opt/anaconda3/envs/ML/lib/python3.10/site-packages/xgboost/compat.py:36: FutureWarning: pandas.Int64Index is deprecated and will be removed from pandas in a future version. Use pandas.Index with the appropriate dtype instead.\n",
            "  from pandas import MultiIndex, Int64Index\n"
          ]
        }
      ],
      "source": [
        "from sklearn.model_selection import GridSearchCV\n",
        "from sklearn.datasets import fetch_california_housing\n",
        "import xgboost as xgb\n",
        "import multiprocessing\n",
        "\n",
        "if __name__ == \"__main__\":\n",
        "    print(\"Parallel Parameter optimization\")\n",
        "    X, y = fetch_california_housing(return_X_y=True)\n",
        "    xgb_model = xgb.XGBRegressor(n_jobs=multiprocessing.cpu_count() // 2)\n",
        "    clf = GridSearchCV(xgb_model, {'max_depth': [2, 4, 6],\n",
        "                                   'n_estimators': [50, 100, 200]}, verbose=1,\n",
        "                       n_jobs=2)\n",
        "    clf.fit(X, y)\n",
        "    print(clf.best_score_)\n",
        "    print(clf.best_params_)"
      ]
    },
    {
      "cell_type": "code",
      "execution_count": null,
      "metadata": {},
      "outputs": [],
      "source": []
    }
  ],
  "metadata": {
    "kernelspec": {
      "display_name": "Python 3.10.2 ('ML')",
      "language": "python",
      "name": "python3"
    },
    "language_info": {
      "codemirror_mode": {
        "name": "ipython",
        "version": 3
      },
      "file_extension": ".py",
      "mimetype": "text/x-python",
      "name": "python",
      "nbconvert_exporter": "python",
      "pygments_lexer": "ipython3",
      "version": "3.10.2"
    },
    "vscode": {
      "interpreter": {
        "hash": "ebf293bd86cc02d9feb21d2e6a0808f9606ca10a518604ef8b420c33da117355"
      }
    }
  },
  "nbformat": 4,
  "nbformat_minor": 0
}
